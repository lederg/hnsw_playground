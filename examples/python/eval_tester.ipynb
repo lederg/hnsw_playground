{
 "cells": [
  {
   "cell_type": "code",
   "execution_count": 1,
   "id": "a7a3c459",
   "metadata": {},
   "outputs": [],
   "source": [
    "import functools\n",
    "import numpy as np\n",
    "from utils import *\n"
   ]
  },
  {
   "cell_type": "code",
   "execution_count": null,
   "id": "05e17fef",
   "metadata": {},
   "outputs": [],
   "source": [
    "db = np.random.random([10000,128])\n",
    "query = db\n",
    "# query = np.random.random([10000,128])"
   ]
  },
  {
   "cell_type": "code",
   "execution_count": null,
   "id": "95d51849",
   "metadata": {},
   "outputs": [],
   "source": [
    "# normalize the vectors\n",
    "db = db / np.linalg.norm(db, axis=1, keepdims=True)\n",
    "query = query / np.linalg.norm(query, axis=1, keepdims=True)\n",
    "    "
   ]
  },
  {
   "cell_type": "code",
   "execution_count": null,
   "id": "29ce8f03",
   "metadata": {},
   "outputs": [],
   "source": [
    "indices_by_similarity, l2_distances = compute_similarity_and_l2(query, db,5)"
   ]
  },
  {
   "cell_type": "code",
   "execution_count": null,
   "id": "5a117d39",
   "metadata": {},
   "outputs": [],
   "source": [
    "indices_by_similarity[15], l2_distances[15]"
   ]
  },
  {
   "cell_type": "code",
   "execution_count": null,
   "id": "e876b61d",
   "metadata": {},
   "outputs": [],
   "source": [
    "a = np.array([[5,10,7,5,3,3,5,2,1], [15,20,17,15,13,13,15,12,11]])\n"
   ]
  },
  {
   "cell_type": "code",
   "execution_count": null,
   "id": "5bed7717",
   "metadata": {},
   "outputs": [],
   "source": [
    "res, idx = np.unique(a, axis=1, return_index=True)\n",
    "unique_rows, row_indices = np.unique(a, axis=0, return_index=True)"
   ]
  },
  {
   "cell_type": "code",
   "execution_count": 13,
   "id": "c2779713",
   "metadata": {},
   "outputs": [],
   "source": [
    "arr = np.array([[5,10,7,5,3,3,5,2,1], [15,20,17,15,13,13,15,12,11]])\n",
    "k=6"
   ]
  },
  {
   "cell_type": "code",
   "execution_count": 14,
   "id": "8c0174a5",
   "metadata": {},
   "outputs": [],
   "source": [
    "f = functools.partial(unique_indices_in_order, k)\n"
   ]
  },
  {
   "cell_type": "code",
   "execution_count": 16,
   "id": "02c14b9a",
   "metadata": {},
   "outputs": [
    {
     "data": {
      "text/plain": [
       "array([[0, 1, 2, 4, 7, 8],\n",
       "       [0, 1, 2, 4, 7, 8]])"
      ]
     },
     "execution_count": 16,
     "metadata": {},
     "output_type": "execute_result"
    }
   ],
   "source": [
    "np.apply_along_axis(f, 1, arr)\n",
    "# f(np.array([5,10,7,5,3,3,5,2,1]))"
   ]
  },
  {
   "cell_type": "code",
   "execution_count": 17,
   "id": "30418715",
   "metadata": {},
   "outputs": [
    {
     "data": {
      "text/plain": [
       "4"
      ]
     },
     "execution_count": 17,
     "metadata": {},
     "output_type": "execute_result"
    }
   ],
   "source": [
    "int(4.5)"
   ]
  }
 ],
 "metadata": {
  "kernelspec": {
   "display_name": "Python 3",
   "language": "python",
   "name": "python3"
  },
  "language_info": {
   "codemirror_mode": {
    "name": "ipython",
    "version": 3
   },
   "file_extension": ".py",
   "mimetype": "text/x-python",
   "name": "python",
   "nbconvert_exporter": "python",
   "pygments_lexer": "ipython3",
   "version": "3.12.0"
  }
 },
 "nbformat": 4,
 "nbformat_minor": 5
}
