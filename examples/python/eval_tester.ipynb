{
 "cells": [
  {
   "cell_type": "code",
   "execution_count": null,
   "id": "a7a3c459",
   "metadata": {},
   "outputs": [],
   "source": [
    "import numpy as np\n",
    "from utils import compute_similarity_and_l2"
   ]
  },
  {
   "cell_type": "code",
   "execution_count": 2,
   "id": "05e17fef",
   "metadata": {},
   "outputs": [],
   "source": [
    "db = np.random.random([10000,128])\n",
    "query = db\n",
    "# query = np.random.random([10000,128])"
   ]
  },
  {
   "cell_type": "code",
   "execution_count": 3,
   "id": "95d51849",
   "metadata": {},
   "outputs": [],
   "source": [
    "# normalize the vectors\n",
    "db = db / np.linalg.norm(db, axis=1, keepdims=True)\n",
    "query = query / np.linalg.norm(query, axis=1, keepdims=True)\n",
    "    "
   ]
  },
  {
   "cell_type": "code",
   "execution_count": 5,
   "id": "29ce8f03",
   "metadata": {},
   "outputs": [],
   "source": [
    "indices_by_similarity, l2_distances = compute_similarity_and_l2(query, db,5)"
   ]
  },
  {
   "cell_type": "code",
   "execution_count": 7,
   "id": "5a117d39",
   "metadata": {},
   "outputs": [
    {
     "data": {
      "text/plain": [
       "(array([  15, 8981, 7204, 9493, 4288]),\n",
       " array([0.        , 0.60588427, 0.60953738, 0.61517202, 0.61861138]))"
      ]
     },
     "execution_count": 7,
     "metadata": {},
     "output_type": "execute_result"
    }
   ],
   "source": [
    "indices_by_similarity[15], l2_distances[15]"
   ]
  },
  {
   "cell_type": "code",
   "execution_count": null,
   "id": "e876b61d",
   "metadata": {},
   "outputs": [
    {
     "data": {
      "text/plain": [
       "0.0"
      ]
     },
     "execution_count": 8,
     "metadata": {},
     "output_type": "execute_result"
    }
   ],
   "source": []
  }
 ],
 "metadata": {
  "kernelspec": {
   "display_name": "Python 3",
   "language": "python",
   "name": "python3"
  },
  "language_info": {
   "codemirror_mode": {
    "name": "ipython",
    "version": 3
   },
   "file_extension": ".py",
   "mimetype": "text/x-python",
   "name": "python",
   "nbconvert_exporter": "python",
   "pygments_lexer": "ipython3",
   "version": "3.12.0"
  }
 },
 "nbformat": 4,
 "nbformat_minor": 5
}
